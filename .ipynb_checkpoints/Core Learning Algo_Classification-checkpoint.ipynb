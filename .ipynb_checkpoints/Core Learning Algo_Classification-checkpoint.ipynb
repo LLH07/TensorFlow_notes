{
 "cells": [
  {
   "cell_type": "markdown",
   "metadata": {},
   "source": [
    "[筆記來源](https://colab.research.google.com/drive/15Cyy2H7nT40sGR7TBN5wBvgTd57mVKay#forceEdit=true&sandboxMode=true&scrollTo=hG9gxhAqVTBT)"
   ]
  },
  {
   "cell_type": "markdown",
   "metadata": {},
   "source": [
    "> Regression: Used to predict a numeric value  \n",
    "> Classification: Used to <font color='blue'>seperate data points into classes of different labels.</font>"
   ]
  },
  {
   "cell_type": "markdown",
   "metadata": {},
   "source": [
    "#### Project: 用一個 TensorFlow estimator 來 classify flowers."
   ]
  },
  {
   "cell_type": "markdown",
   "metadata": {},
   "source": [
    "#### Dataset\n",
    "Dataset 共有三種不同的種類:\n",
    "- Setosa\n",
    "- Versicolor\n",
    "- Virginica\n",
    "\n",
    "每種花都有下列資訊:\n",
    "- sepal length 花萼長度\n",
    "- sepal width 花萼寬度\n",
    "- petal length 花瓣長度\n",
    "- petal width 花瓣寬度"
   ]
  },
  {
   "cell_type": "code",
   "execution_count": 1,
   "metadata": {},
   "outputs": [],
   "source": [
    "from __future__ import absolute_import, division, print_function, unicode_literals\n",
    "\n",
    "\n",
    "import tensorflow as tf\n",
    "\n",
    "import pandas as pd"
   ]
  },
  {
   "cell_type": "code",
   "execution_count": 2,
   "metadata": {},
   "outputs": [],
   "source": [
    "CSV_COLUMN_NAMES = ['SepalLength', 'SepalWidth', 'PetalLength', 'PetalWidth', 'Species']\n",
    "\n",
    "SPECIES = ['Setosa', 'Versicolor', 'Virginica']\n",
    "\n",
    "# 創建可能會用到的資訊。"
   ]
  },
  {
   "cell_type": "markdown",
   "metadata": {},
   "source": [
    "#### 每次做 ML 的 dataset 來源都不一樣，所以重點是架構，而非程式碼。\n",
    "#### 這次花的 dataset 來自 keras，keras 可以想成是 TensorFlow 的一個 sub module\n",
    "#### 用 <font color='blue'>tf.keras.utils.get_file()</font> 將資料讀取\n",
    "#### 之後再將其<font color='blue'>變成 DataFrame 模式。</font>"
   ]
  },
  {
   "cell_type": "code",
   "execution_count": 3,
   "metadata": {},
   "outputs": [],
   "source": [
    "train_path = tf.keras.utils.get_file(\n",
    "    \"iris_training.csv\", \"https://storage.googleapis.com/download.tensorflow.org/data/iris_training.csv\")\n",
    "test_path = tf.keras.utils.get_file(\n",
    "    \"iris_test.csv\", \"https://storage.googleapis.com/download.tensorflow.org/data/iris_test.csv\")\n",
    "\n",
    "train = pd.read_csv(train_path, names=CSV_COLUMN_NAMES, header=0)\n",
    "test = pd.read_csv(test_path, names=CSV_COLUMN_NAMES, header=0)"
   ]
  },
  {
   "cell_type": "code",
   "execution_count": 4,
   "metadata": {},
   "outputs": [
    {
     "data": {
      "text/plain": [
       "pandas.core.frame.DataFrame"
      ]
     },
     "execution_count": 4,
     "metadata": {},
     "output_type": "execute_result"
    }
   ],
   "source": [
    "type(train)"
   ]
  },
  {
   "cell_type": "code",
   "execution_count": 5,
   "metadata": {},
   "outputs": [
    {
     "data": {
      "text/html": [
       "<div>\n",
       "<style scoped>\n",
       "    .dataframe tbody tr th:only-of-type {\n",
       "        vertical-align: middle;\n",
       "    }\n",
       "\n",
       "    .dataframe tbody tr th {\n",
       "        vertical-align: top;\n",
       "    }\n",
       "\n",
       "    .dataframe thead th {\n",
       "        text-align: right;\n",
       "    }\n",
       "</style>\n",
       "<table border=\"1\" class=\"dataframe\">\n",
       "  <thead>\n",
       "    <tr style=\"text-align: right;\">\n",
       "      <th></th>\n",
       "      <th>SepalLength</th>\n",
       "      <th>SepalWidth</th>\n",
       "      <th>PetalLength</th>\n",
       "      <th>PetalWidth</th>\n",
       "      <th>Species</th>\n",
       "    </tr>\n",
       "  </thead>\n",
       "  <tbody>\n",
       "    <tr>\n",
       "      <th>0</th>\n",
       "      <td>6.4</td>\n",
       "      <td>2.8</td>\n",
       "      <td>5.6</td>\n",
       "      <td>2.2</td>\n",
       "      <td>2</td>\n",
       "    </tr>\n",
       "    <tr>\n",
       "      <th>1</th>\n",
       "      <td>5.0</td>\n",
       "      <td>2.3</td>\n",
       "      <td>3.3</td>\n",
       "      <td>1.0</td>\n",
       "      <td>1</td>\n",
       "    </tr>\n",
       "    <tr>\n",
       "      <th>2</th>\n",
       "      <td>4.9</td>\n",
       "      <td>2.5</td>\n",
       "      <td>4.5</td>\n",
       "      <td>1.7</td>\n",
       "      <td>2</td>\n",
       "    </tr>\n",
       "    <tr>\n",
       "      <th>3</th>\n",
       "      <td>4.9</td>\n",
       "      <td>3.1</td>\n",
       "      <td>1.5</td>\n",
       "      <td>0.1</td>\n",
       "      <td>0</td>\n",
       "    </tr>\n",
       "    <tr>\n",
       "      <th>4</th>\n",
       "      <td>5.7</td>\n",
       "      <td>3.8</td>\n",
       "      <td>1.7</td>\n",
       "      <td>0.3</td>\n",
       "      <td>0</td>\n",
       "    </tr>\n",
       "  </tbody>\n",
       "</table>\n",
       "</div>"
      ],
      "text/plain": [
       "   SepalLength  SepalWidth  PetalLength  PetalWidth  Species\n",
       "0          6.4         2.8          5.6         2.2        2\n",
       "1          5.0         2.3          3.3         1.0        1\n",
       "2          4.9         2.5          4.5         1.7        2\n",
       "3          4.9         3.1          1.5         0.1        0\n",
       "4          5.7         3.8          1.7         0.3        0"
      ]
     },
     "execution_count": 5,
     "metadata": {},
     "output_type": "execute_result"
    }
   ],
   "source": [
    "train.head()"
   ]
  },
  {
   "cell_type": "markdown",
   "metadata": {},
   "source": [
    "##### 注意到最後一個 column，也就是我們的 label。已經是 numerical data 了。"
   ]
  },
  {
   "cell_type": "code",
   "execution_count": 6,
   "metadata": {},
   "outputs": [],
   "source": [
    "train_y = train.pop('Species')\n",
    "test_y = test.pop('Species')"
   ]
  },
  {
   "cell_type": "code",
   "execution_count": 7,
   "metadata": {
    "scrolled": true
   },
   "outputs": [
    {
     "data": {
      "text/html": [
       "<div>\n",
       "<style scoped>\n",
       "    .dataframe tbody tr th:only-of-type {\n",
       "        vertical-align: middle;\n",
       "    }\n",
       "\n",
       "    .dataframe tbody tr th {\n",
       "        vertical-align: top;\n",
       "    }\n",
       "\n",
       "    .dataframe thead th {\n",
       "        text-align: right;\n",
       "    }\n",
       "</style>\n",
       "<table border=\"1\" class=\"dataframe\">\n",
       "  <thead>\n",
       "    <tr style=\"text-align: right;\">\n",
       "      <th></th>\n",
       "      <th>SepalLength</th>\n",
       "      <th>SepalWidth</th>\n",
       "      <th>PetalLength</th>\n",
       "      <th>PetalWidth</th>\n",
       "    </tr>\n",
       "  </thead>\n",
       "  <tbody>\n",
       "    <tr>\n",
       "      <th>0</th>\n",
       "      <td>6.4</td>\n",
       "      <td>2.8</td>\n",
       "      <td>5.6</td>\n",
       "      <td>2.2</td>\n",
       "    </tr>\n",
       "    <tr>\n",
       "      <th>1</th>\n",
       "      <td>5.0</td>\n",
       "      <td>2.3</td>\n",
       "      <td>3.3</td>\n",
       "      <td>1.0</td>\n",
       "    </tr>\n",
       "    <tr>\n",
       "      <th>2</th>\n",
       "      <td>4.9</td>\n",
       "      <td>2.5</td>\n",
       "      <td>4.5</td>\n",
       "      <td>1.7</td>\n",
       "    </tr>\n",
       "    <tr>\n",
       "      <th>3</th>\n",
       "      <td>4.9</td>\n",
       "      <td>3.1</td>\n",
       "      <td>1.5</td>\n",
       "      <td>0.1</td>\n",
       "    </tr>\n",
       "    <tr>\n",
       "      <th>4</th>\n",
       "      <td>5.7</td>\n",
       "      <td>3.8</td>\n",
       "      <td>1.7</td>\n",
       "      <td>0.3</td>\n",
       "    </tr>\n",
       "    <tr>\n",
       "      <th>...</th>\n",
       "      <td>...</td>\n",
       "      <td>...</td>\n",
       "      <td>...</td>\n",
       "      <td>...</td>\n",
       "    </tr>\n",
       "    <tr>\n",
       "      <th>115</th>\n",
       "      <td>5.5</td>\n",
       "      <td>2.6</td>\n",
       "      <td>4.4</td>\n",
       "      <td>1.2</td>\n",
       "    </tr>\n",
       "    <tr>\n",
       "      <th>116</th>\n",
       "      <td>5.7</td>\n",
       "      <td>3.0</td>\n",
       "      <td>4.2</td>\n",
       "      <td>1.2</td>\n",
       "    </tr>\n",
       "    <tr>\n",
       "      <th>117</th>\n",
       "      <td>4.4</td>\n",
       "      <td>2.9</td>\n",
       "      <td>1.4</td>\n",
       "      <td>0.2</td>\n",
       "    </tr>\n",
       "    <tr>\n",
       "      <th>118</th>\n",
       "      <td>4.8</td>\n",
       "      <td>3.0</td>\n",
       "      <td>1.4</td>\n",
       "      <td>0.1</td>\n",
       "    </tr>\n",
       "    <tr>\n",
       "      <th>119</th>\n",
       "      <td>5.5</td>\n",
       "      <td>2.4</td>\n",
       "      <td>3.7</td>\n",
       "      <td>1.0</td>\n",
       "    </tr>\n",
       "  </tbody>\n",
       "</table>\n",
       "<p>120 rows × 4 columns</p>\n",
       "</div>"
      ],
      "text/plain": [
       "     SepalLength  SepalWidth  PetalLength  PetalWidth\n",
       "0            6.4         2.8          5.6         2.2\n",
       "1            5.0         2.3          3.3         1.0\n",
       "2            4.9         2.5          4.5         1.7\n",
       "3            4.9         3.1          1.5         0.1\n",
       "4            5.7         3.8          1.7         0.3\n",
       "..           ...         ...          ...         ...\n",
       "115          5.5         2.6          4.4         1.2\n",
       "116          5.7         3.0          4.2         1.2\n",
       "117          4.4         2.9          1.4         0.2\n",
       "118          4.8         3.0          1.4         0.1\n",
       "119          5.5         2.4          3.7         1.0\n",
       "\n",
       "[120 rows x 4 columns]"
      ]
     },
     "execution_count": 7,
     "metadata": {},
     "output_type": "execute_result"
    }
   ],
   "source": [
    "train # 成功將 Species column 去除了"
   ]
  },
  {
   "cell_type": "code",
   "execution_count": 8,
   "metadata": {
    "scrolled": false
   },
   "outputs": [
    {
     "data": {
      "text/plain": [
       "0      2\n",
       "1      1\n",
       "2      2\n",
       "3      0\n",
       "4      0\n",
       "      ..\n",
       "115    1\n",
       "116    1\n",
       "117    0\n",
       "118    0\n",
       "119    1\n",
       "Name: Species, Length: 120, dtype: int64"
      ]
     },
     "execution_count": 8,
     "metadata": {},
     "output_type": "execute_result"
    }
   ],
   "source": [
    "train_y # label 在這裡"
   ]
  },
  {
   "cell_type": "markdown",
   "metadata": {},
   "source": [
    "#### 設定 feature column:\n",
    "##### 這裡較 linear regression 的例子簡單，因為所有 features 已經是 numerical 了。"
   ]
  },
  {
   "cell_type": "markdown",
   "metadata": {},
   "source": [
    "[df.keys()](https://www.geeksforgeeks.org/python-pandas-dataframe-keys/)"
   ]
  },
  {
   "cell_type": "markdown",
   "metadata": {},
   "source": [
    "> Pandas dataframe.keys() function returns the ‘info axis’ for the pandas object.  \n",
    "> If the pandas object is series: it returns index.   \n",
    "> <font color='green'>If the pandas object is dataframe: it returns columns. </font>  \n",
    "> If the pandas object is panel: it returns major_axis."
   ]
  },
  {
   "cell_type": "code",
   "execution_count": 9,
   "metadata": {},
   "outputs": [
    {
     "name": "stdout",
     "output_type": "stream",
     "text": [
      "[NumericColumn(key='SepalLength', shape=(1,), default_value=None, dtype=tf.float32, normalizer_fn=None), NumericColumn(key='SepalWidth', shape=(1,), default_value=None, dtype=tf.float32, normalizer_fn=None), NumericColumn(key='PetalLength', shape=(1,), default_value=None, dtype=tf.float32, normalizer_fn=None), NumericColumn(key='PetalWidth', shape=(1,), default_value=None, dtype=tf.float32, normalizer_fn=None)]\n"
     ]
    }
   ],
   "source": [
    "my_feature_columns = []\n",
    "\n",
    "for key in train.keys():\n",
    "    my_feature_columns.append(tf.feature_column.numeric_column(key=key))\n",
    "print(my_feature_columns)"
   ]
  },
  {
   "cell_type": "markdown",
   "metadata": {},
   "source": [
    "#### 跟 Linear Regression 的寫法比較: (其實概念是一樣的)\n",
    "```python\n",
    "for feature_name in NUMERIC_COLUMNS:  \n",
    "    feature_columns.append(tf.feature_column.numeric_column(feature_name, dtype=tf.float32))\n",
    "```"
   ]
  },
  {
   "cell_type": "markdown",
   "metadata": {},
   "source": [
    "#### 現在要設定 input function:\n",
    "##### 但這個 input function 看上去比 linear regression 的 input function 簡單。\n",
    "##### 注意到這次我們沒有給 epoch\n",
    "##### <font color='red'> 初學階段不用因為寫不出 input function 而沮喪，看多了，自然就會寫了。</font>"
   ]
  },
  {
   "cell_type": "code",
   "execution_count": 10,
   "metadata": {},
   "outputs": [],
   "source": [
    "def input_fn(features, labels, training=True, batch_size=256):\n",
    "    # Convert the inputs to a Dataset.\n",
    "    dataset = tf.data.Dataset.from_tensor_slices((dict(features), labels))\n",
    "\n",
    "    # Shuffle and repeat if you are in training mode.\n",
    "    if training:\n",
    "        dataset = dataset.shuffle(1000).repeat()\n",
    "    \n",
    "    return dataset.batch(batch_size)"
   ]
  },
  {
   "cell_type": "markdown",
   "metadata": {},
   "source": [
    "#### 如果要做 classification，有很多種 models/estimaters 可以選，常見的兩個如下:\n",
    "- DNNClassifier (Deep Neural Network)\n",
    "- LinearClassifier\n",
    "##### 建議用 DNNClassifier，因為 LinearClassifier 不一定找的到線性關係。"
   ]
  },
  {
   "cell_type": "code",
   "execution_count": 11,
   "metadata": {},
   "outputs": [
    {
     "name": "stdout",
     "output_type": "stream",
     "text": [
      "INFO:tensorflow:Using default config.\n",
      "WARNING:tensorflow:Using temporary folder as model directory: C:\\Users\\User\\AppData\\Local\\Temp\\tmpgyumtxzl\n",
      "INFO:tensorflow:Using config: {'_model_dir': 'C:\\\\Users\\\\User\\\\AppData\\\\Local\\\\Temp\\\\tmpgyumtxzl', '_tf_random_seed': None, '_save_summary_steps': 100, '_save_checkpoints_steps': None, '_save_checkpoints_secs': 600, '_session_config': allow_soft_placement: true\n",
      "graph_options {\n",
      "  rewrite_options {\n",
      "    meta_optimizer_iterations: ONE\n",
      "  }\n",
      "}\n",
      ", '_keep_checkpoint_max': 5, '_keep_checkpoint_every_n_hours': 10000, '_log_step_count_steps': 100, '_train_distribute': None, '_device_fn': None, '_protocol': None, '_eval_distribute': None, '_experimental_distribute': None, '_experimental_max_worker_delay_secs': None, '_session_creation_timeout_secs': 7200, '_service': None, '_cluster_spec': <tensorflow.python.training.server_lib.ClusterSpec object at 0x0000028F25B6D630>, '_task_type': 'worker', '_task_id': 0, '_global_id_in_cluster': 0, '_master': '', '_evaluation_master': '', '_is_chief': True, '_num_ps_replicas': 0, '_num_worker_replicas': 1}\n"
     ]
    }
   ],
   "source": [
    "# Build a DNN with 2 hidden layers with 30 and 10 hidden nodes each.\n",
    "classifier = tf.estimator.DNNClassifier( # tf.estimater內存許多不同的 models。\n",
    "    feature_columns=my_feature_columns,\n",
    "    hidden_units=[30, 10], # 給定兩層 hidden layers，依序有 30 跟 10 個 nodes。\n",
    "    n_classes=3) # n_classes 將指定電腦選擇 3 種 classes(因為我們知道總共有三種品種的花)"
   ]
  },
  {
   "cell_type": "code",
   "execution_count": 12,
   "metadata": {
    "scrolled": true
   },
   "outputs": [
    {
     "data": {
      "text/plain": [
       "tensorflow_estimator.python.estimator.canned.dnn.DNNClassifier"
      ]
     },
     "execution_count": 12,
     "metadata": {},
     "output_type": "execute_result"
    }
   ],
   "source": [
    "type(classifier)"
   ]
  },
  {
   "cell_type": "markdown",
   "metadata": {},
   "source": [
    "#### 有了 classifier，我們就可以 train 了!  \n",
    "##### 注意到我們用了 <font color='red'> lambda </font> [參考資料](https://medium.com/citycoddee/python%E9%80%B2%E9%9A%8E%E6%8A%80%E5%B7%A7-4-lambda-function-%E8%88%87-closure-%E4%B9%8B%E8%AC%8E-7a385a35e1d8)\n",
    "##### lambda 基本上跟 function 裡面再有 function 是一樣的概念(在 linear regression 時 input function 即為此)\n",
    "---\n",
    "##### 用 code 舉例:\n",
    "```python\n",
    "x = lambda: print('hi')\n",
    "x() # 印出 hi\n",
    "```\n",
    "##### 意思是我們呼叫 x，而 x 會再執行一個 function(function 的內容是冒號後面的 code)，最終印出 hi。"
   ]
  },
  {
   "cell_type": "code",
   "execution_count": 13,
   "metadata": {},
   "outputs": [
    {
     "name": "stdout",
     "output_type": "stream",
     "text": [
      "WARNING:tensorflow:From C:\\Users\\User\\Anaconda3\\lib\\site-packages\\tensorflow_core\\python\\training\\training_util.py:236: Variable.initialized_value (from tensorflow.python.ops.variables) is deprecated and will be removed in a future version.\n",
      "Instructions for updating:\n",
      "Use Variable.read_value. Variables in 2.X are initialized automatically both in eager and graph (inside tf.defun) contexts.\n",
      "INFO:tensorflow:Calling model_fn.\n",
      "WARNING:tensorflow:From C:\\Users\\User\\Anaconda3\\lib\\site-packages\\tensorflow_core\\python\\ops\\resource_variable_ops.py:1630: calling BaseResourceVariable.__init__ (from tensorflow.python.ops.resource_variable_ops) with constraint is deprecated and will be removed in a future version.\n",
      "Instructions for updating:\n",
      "If using Keras pass *_constraint arguments to layers.\n",
      "WARNING:tensorflow:From C:\\Users\\User\\Anaconda3\\lib\\site-packages\\tensorflow_estimator\\python\\estimator\\canned\\head.py:437: to_float (from tensorflow.python.ops.math_ops) is deprecated and will be removed in a future version.\n",
      "Instructions for updating:\n",
      "Use `tf.cast` instead.\n",
      "WARNING:tensorflow:From C:\\Users\\User\\Anaconda3\\lib\\site-packages\\tensorflow_core\\python\\training\\adagrad.py:76: calling Constant.__init__ (from tensorflow.python.ops.init_ops) with dtype is deprecated and will be removed in a future version.\n",
      "Instructions for updating:\n",
      "Call initializer instance with the dtype argument instead of passing it to the constructor\n",
      "INFO:tensorflow:Done calling model_fn.\n",
      "INFO:tensorflow:Create CheckpointSaverHook.\n",
      "WARNING:tensorflow:From C:\\Users\\User\\Anaconda3\\lib\\site-packages\\tensorflow_core\\python\\ops\\array_ops.py:1475: where (from tensorflow.python.ops.array_ops) is deprecated and will be removed in a future version.\n",
      "Instructions for updating:\n",
      "Use tf.where in 2.0, which has the same broadcast rule as np.where\n",
      "INFO:tensorflow:Graph was finalized.\n",
      "INFO:tensorflow:Running local_init_op.\n",
      "INFO:tensorflow:Done running local_init_op.\n",
      "INFO:tensorflow:Saving checkpoints for 0 into C:\\Users\\User\\AppData\\Local\\Temp\\tmpgyumtxzl\\model.ckpt.\n",
      "INFO:tensorflow:loss = 488.8822, step = 1\n",
      "INFO:tensorflow:global_step/sec: 388.224\n",
      "INFO:tensorflow:loss = 97.15818, step = 101 (0.259 sec)\n",
      "INFO:tensorflow:global_step/sec: 663.99\n",
      "INFO:tensorflow:loss = 59.523834, step = 201 (0.151 sec)\n",
      "INFO:tensorflow:global_step/sec: 686.047\n",
      "INFO:tensorflow:loss = 35.702003, step = 301 (0.146 sec)\n",
      "INFO:tensorflow:global_step/sec: 678.136\n",
      "INFO:tensorflow:loss = 20.173107, step = 401 (0.148 sec)\n",
      "INFO:tensorflow:global_step/sec: 680.47\n",
      "INFO:tensorflow:loss = 15.919053, step = 501 (0.147 sec)\n",
      "INFO:tensorflow:global_step/sec: 681.338\n",
      "INFO:tensorflow:loss = 14.758083, step = 601 (0.147 sec)\n",
      "INFO:tensorflow:global_step/sec: 688.775\n",
      "INFO:tensorflow:loss = 16.561626, step = 701 (0.144 sec)\n",
      "INFO:tensorflow:global_step/sec: 680.754\n",
      "INFO:tensorflow:loss = 17.516819, step = 801 (0.147 sec)\n",
      "INFO:tensorflow:global_step/sec: 688.689\n",
      "INFO:tensorflow:loss = 12.954962, step = 901 (0.145 sec)\n",
      "INFO:tensorflow:global_step/sec: 663.697\n",
      "INFO:tensorflow:loss = 14.201663, step = 1001 (0.152 sec)\n",
      "INFO:tensorflow:global_step/sec: 689.056\n",
      "INFO:tensorflow:loss = 10.369698, step = 1101 (0.144 sec)\n",
      "INFO:tensorflow:global_step/sec: 680.114\n",
      "INFO:tensorflow:loss = 12.324188, step = 1201 (0.147 sec)\n",
      "INFO:tensorflow:global_step/sec: 671.037\n",
      "INFO:tensorflow:loss = 13.711553, step = 1301 (0.149 sec)\n",
      "INFO:tensorflow:global_step/sec: 710.268\n",
      "INFO:tensorflow:loss = 10.094656, step = 1401 (0.141 sec)\n",
      "INFO:tensorflow:global_step/sec: 680.886\n",
      "INFO:tensorflow:loss = 10.902668, step = 1501 (0.148 sec)\n",
      "INFO:tensorflow:global_step/sec: 683.035\n",
      "INFO:tensorflow:loss = 10.850296, step = 1601 (0.145 sec)\n",
      "INFO:tensorflow:global_step/sec: 675.006\n",
      "INFO:tensorflow:loss = 12.376743, step = 1701 (0.149 sec)\n",
      "INFO:tensorflow:global_step/sec: 688.758\n",
      "INFO:tensorflow:loss = 10.825718, step = 1801 (0.144 sec)\n",
      "INFO:tensorflow:global_step/sec: 586.486\n",
      "INFO:tensorflow:loss = 11.505836, step = 1901 (0.171 sec)\n",
      "INFO:tensorflow:global_step/sec: 562.159\n",
      "INFO:tensorflow:loss = 9.607561, step = 2001 (0.181 sec)\n",
      "INFO:tensorflow:global_step/sec: 530.156\n",
      "INFO:tensorflow:loss = 9.451586, step = 2101 (0.187 sec)\n",
      "INFO:tensorflow:global_step/sec: 606.239\n",
      "INFO:tensorflow:loss = 8.293062, step = 2201 (0.165 sec)\n",
      "INFO:tensorflow:global_step/sec: 691.45\n",
      "INFO:tensorflow:loss = 8.590197, step = 2301 (0.143 sec)\n",
      "INFO:tensorflow:global_step/sec: 676.794\n",
      "INFO:tensorflow:loss = 9.36011, step = 2401 (0.149 sec)\n",
      "INFO:tensorflow:global_step/sec: 717.852\n",
      "INFO:tensorflow:loss = 10.190577, step = 2501 (0.138 sec)\n",
      "INFO:tensorflow:global_step/sec: 669.511\n",
      "INFO:tensorflow:loss = 9.840626, step = 2601 (0.150 sec)\n",
      "INFO:tensorflow:global_step/sec: 664.199\n",
      "INFO:tensorflow:loss = 9.365017, step = 2701 (0.150 sec)\n",
      "INFO:tensorflow:global_step/sec: 704.124\n",
      "INFO:tensorflow:loss = 10.769146, step = 2801 (0.143 sec)\n",
      "INFO:tensorflow:global_step/sec: 685.875\n",
      "INFO:tensorflow:loss = 9.459435, step = 2901 (0.145 sec)\n",
      "INFO:tensorflow:global_step/sec: 685.813\n",
      "INFO:tensorflow:loss = 8.855056, step = 3001 (0.146 sec)\n",
      "INFO:tensorflow:global_step/sec: 686.854\n",
      "INFO:tensorflow:loss = 9.436584, step = 3101 (0.146 sec)\n",
      "INFO:tensorflow:global_step/sec: 681.757\n",
      "INFO:tensorflow:loss = 11.252842, step = 3201 (0.148 sec)\n",
      "INFO:tensorflow:global_step/sec: 652.225\n",
      "INFO:tensorflow:loss = 8.558332, step = 3301 (0.153 sec)\n",
      "INFO:tensorflow:global_step/sec: 673.192\n",
      "INFO:tensorflow:loss = 7.9119825, step = 3401 (0.149 sec)\n",
      "INFO:tensorflow:global_step/sec: 652.319\n",
      "INFO:tensorflow:loss = 8.10647, step = 3501 (0.152 sec)\n",
      "INFO:tensorflow:global_step/sec: 675.071\n",
      "INFO:tensorflow:loss = 7.866698, step = 3601 (0.149 sec)\n",
      "INFO:tensorflow:global_step/sec: 663.412\n",
      "INFO:tensorflow:loss = 7.1439624, step = 3701 (0.150 sec)\n",
      "INFO:tensorflow:global_step/sec: 667.387\n",
      "INFO:tensorflow:loss = 7.1886115, step = 3801 (0.150 sec)\n",
      "INFO:tensorflow:global_step/sec: 668.696\n",
      "INFO:tensorflow:loss = 7.6921005, step = 3901 (0.152 sec)\n",
      "INFO:tensorflow:global_step/sec: 481.555\n",
      "INFO:tensorflow:loss = 10.672787, step = 4001 (0.207 sec)\n",
      "INFO:tensorflow:global_step/sec: 671.853\n",
      "INFO:tensorflow:loss = 8.475111, step = 4101 (0.148 sec)\n",
      "INFO:tensorflow:global_step/sec: 699.364\n",
      "INFO:tensorflow:loss = 7.7165356, step = 4201 (0.143 sec)\n",
      "INFO:tensorflow:global_step/sec: 717.959\n",
      "INFO:tensorflow:loss = 7.3536916, step = 4301 (0.140 sec)\n",
      "INFO:tensorflow:global_step/sec: 718.768\n",
      "INFO:tensorflow:loss = 9.021761, step = 4401 (0.138 sec)\n",
      "INFO:tensorflow:global_step/sec: 723.138\n",
      "INFO:tensorflow:loss = 7.7992926, step = 4501 (0.138 sec)\n",
      "INFO:tensorflow:global_step/sec: 712.635\n",
      "INFO:tensorflow:loss = 7.0348134, step = 4601 (0.140 sec)\n",
      "INFO:tensorflow:global_step/sec: 586.54\n",
      "INFO:tensorflow:loss = 9.287482, step = 4701 (0.173 sec)\n",
      "INFO:tensorflow:global_step/sec: 555.731\n",
      "INFO:tensorflow:loss = 7.3327656, step = 4801 (0.178 sec)\n",
      "INFO:tensorflow:global_step/sec: 693.088\n",
      "INFO:tensorflow:loss = 9.659361, step = 4901 (0.145 sec)\n",
      "INFO:tensorflow:Saving checkpoints for 5000 into C:\\Users\\User\\AppData\\Local\\Temp\\tmpgyumtxzl\\model.ckpt.\n",
      "INFO:tensorflow:Loss for final step: 6.4843583.\n"
     ]
    },
    {
     "data": {
      "text/plain": [
       "<tensorflow_estimator.python.estimator.canned.dnn.DNNClassifier at 0x28f25b40438>"
      ]
     },
     "execution_count": 13,
     "metadata": {},
     "output_type": "execute_result"
    }
   ],
   "source": [
    "classifier.train(\n",
    "    input_fn=lambda: input_fn(train, train_y, training=True),\n",
    "    steps=5000) # steps(這次沒有 epoch) 是 500。"
   ]
  },
  {
   "cell_type": "code",
   "execution_count": 14,
   "metadata": {},
   "outputs": [
    {
     "name": "stdout",
     "output_type": "stream",
     "text": [
      "1\n"
     ]
    },
    {
     "data": {
      "text/plain": [
       "function"
      ]
     },
     "execution_count": 14,
     "metadata": {},
     "output_type": "execute_result"
    }
   ],
   "source": [
    "x = lambda x: len(x)\n",
    "print(x('x'))\n",
    "type(x)"
   ]
  },
  {
   "cell_type": "markdown",
   "metadata": {},
   "source": [
    "#### train 完後可以讓他考試了:"
   ]
  },
  {
   "cell_type": "code",
   "execution_count": 15,
   "metadata": {},
   "outputs": [
    {
     "name": "stdout",
     "output_type": "stream",
     "text": [
      "INFO:tensorflow:Calling model_fn.\n",
      "INFO:tensorflow:Done calling model_fn.\n",
      "INFO:tensorflow:Starting evaluation at 2020-09-18T11:30:33Z\n",
      "INFO:tensorflow:Graph was finalized.\n",
      "INFO:tensorflow:Restoring parameters from C:\\Users\\User\\AppData\\Local\\Temp\\tmpgyumtxzl\\model.ckpt-5000\n",
      "INFO:tensorflow:Running local_init_op.\n",
      "INFO:tensorflow:Done running local_init_op.\n",
      "INFO:tensorflow:Finished evaluation at 2020-09-18-11:30:33\n",
      "INFO:tensorflow:Saving dict for global step 5000: accuracy = 0.96666664, average_loss = 0.08001992, global_step = 5000, loss = 2.4005976\n",
      "INFO:tensorflow:Saving 'checkpoint_path' summary for global step 5000: C:\\Users\\User\\AppData\\Local\\Temp\\tmpgyumtxzl\\model.ckpt-5000\n"
     ]
    }
   ],
   "source": [
    "eval_result = classifier.evaluate(input_fn=lambda: input_fn(test, test_y, training=False)) # training 要記得設為 False"
   ]
  },
  {
   "cell_type": "code",
   "execution_count": 16,
   "metadata": {},
   "outputs": [
    {
     "name": "stdout",
     "output_type": "stream",
     "text": [
      "\n",
      "Test set accuracy: 0.967\n",
      "\n"
     ]
    }
   ],
   "source": [
    "print('\\nTest set accuracy: {accuracy:0.3f}\\n'.format(**eval_result))"
   ]
  },
  {
   "cell_type": "markdown",
   "metadata": {},
   "source": [
    "#### 結果看起來不錯，現在設計一個方法，讓 user input features(sepal length, sepal width, petal length, petal width) 並 predict 可能是哪一種花。"
   ]
  },
  {
   "cell_type": "code",
   "execution_count": 17,
   "metadata": {},
   "outputs": [
    {
     "name": "stdout",
     "output_type": "stream",
     "text": [
      "輸入數字資料: \n",
      "SepalLength: 2.3\n",
      "SepalWidth: 3.5\n",
      "PetalLength: 4.5\n",
      "PetalWidth: 8.1\n",
      "{'SepalLength': [2.3], 'SepalWidth': [3.5], 'PetalLength': [4.5], 'PetalWidth': [8.1]}\n"
     ]
    }
   ],
   "source": [
    "def input_fn(features, batch_size=256): # 注意到這次的參數，只有 fectures(沒有 train, train_y 等)\n",
    "    return tf.data.Dataset.from_tensor_slices(dict(features)).batch(batch_size)\n",
    "\n",
    "features = ['SepalLength', 'SepalWidth', 'PetalLength', 'PetalWidth']\n",
    "\n",
    "predict = {} # 傳入 input function 的 features 是一個字典\n",
    "\n",
    "# 接著輸入者必須輸入正確的型態(數字型態)才可以丟入 predict\n",
    "print(\"輸入數字資料: \")\n",
    "\n",
    "for feature in features:\n",
    "    valid = True\n",
    "    while valid: \n",
    "        val = input(feature + \": \") # input(設計使用者看到的介面) \n",
    "        if not val.isdigit():\n",
    "            valid = False\n",
    "            '''\n",
    "                這裡作者的意思是: 當 val 有不是數字的 input(小數點也算)，就讓 valid = False 進而結束迴圈。\n",
    "                因為在這個 case，花瓣花萼的長寬應該都小於 10。\n",
    "            '''\n",
    "    predict[feature] = [float(val)] # 字典的 key 是目前 feature，value 則一定要用 list 包起來。\n",
    "    \n",
    "print(predict)"
   ]
  },
  {
   "cell_type": "code",
   "execution_count": 22,
   "metadata": {},
   "outputs": [
    {
     "name": "stdout",
     "output_type": "stream",
     "text": [
      "<generator object Estimator.predict at 0x0000028F25AD97C8>\n"
     ]
    }
   ],
   "source": [
    "predictions = classifier.predict(input_fn=lambda: input_fn(predict)) \n",
    "# 第一個 input_fn 是參數，第二個 input function 是自己設的\n",
    "print(predictions) "
   ]
  },
  {
   "cell_type": "markdown",
   "metadata": {},
   "source": [
    "#### predictions 是一個 generator[作者有提到 generator 物件適合用 for 迴圈取出裡面的資料]\n",
    "[Generator 生成器](https://www.itread01.com/content/1543162922.html)"
   ]
  },
  {
   "cell_type": "code",
   "execution_count": 19,
   "metadata": {
    "scrolled": true
   },
   "outputs": [
    {
     "name": "stdout",
     "output_type": "stream",
     "text": [
      "INFO:tensorflow:Calling model_fn.\n",
      "INFO:tensorflow:Done calling model_fn.\n",
      "INFO:tensorflow:Graph was finalized.\n",
      "INFO:tensorflow:Restoring parameters from C:\\Users\\User\\AppData\\Local\\Temp\\tmpgyumtxzl\\model.ckpt-5000\n",
      "INFO:tensorflow:Running local_init_op.\n",
      "INFO:tensorflow:Done running local_init_op.\n",
      "{'logits': array([ -7.769993, -11.040387,  28.50204 ], dtype=float32), 'probabilities': array([1.7670788e-16, 6.7133945e-18, 1.0000000e+00], dtype=float32), 'class_ids': array([2], dtype=int64), 'classes': array([b'2'], dtype=object), 'all_class_ids': array([0, 1, 2]), 'all_classes': array([b'0', b'1', b'2'], dtype=object)}\n"
     ]
    }
   ],
   "source": [
    "for pred_dict in predictions:\n",
    "    print(pred_dict)"
   ]
  },
  {
   "cell_type": "markdown",
   "metadata": {},
   "source": [
    "\n",
    "- class_ids 是一個 array，2 代表電腦根據我們輸入的資料，認為他是 SPECIES = ['Setosa', 'Versicolor', 'Virginica'] 中的第 2 編號(也就是 Virginica)\n",
    "- probabilities 是一個 array，3 個數字代表電腦認為是各個物種的機率(注意到最後一個數字最大，因此電腦認為是 Virginica)"
   ]
  },
  {
   "cell_type": "code",
   "execution_count": 23,
   "metadata": {},
   "outputs": [
    {
     "name": "stdout",
     "output_type": "stream",
     "text": [
      "INFO:tensorflow:Calling model_fn.\n",
      "INFO:tensorflow:Done calling model_fn.\n",
      "INFO:tensorflow:Graph was finalized.\n",
      "INFO:tensorflow:Restoring parameters from C:\\Users\\User\\AppData\\Local\\Temp\\tmpgyumtxzl\\model.ckpt-5000\n",
      "INFO:tensorflow:Running local_init_op.\n",
      "INFO:tensorflow:Done running local_init_op.\n",
      "{'logits': array([ -7.769993, -11.040387,  28.50204 ], dtype=float32), 'probabilities': array([1.7670788e-16, 6.7133945e-18, 1.0000000e+00], dtype=float32), 'class_ids': array([2], dtype=int64), 'classes': array([b'2'], dtype=object), 'all_class_ids': array([0, 1, 2]), 'all_classes': array([b'0', b'1', b'2'], dtype=object)}\n",
      "2\n",
      "Prediction is \"Virginica\" (100.0%)\n"
     ]
    }
   ],
   "source": [
    "for pred_dict in predictions:\n",
    "    print(pred_dict)\n",
    "    class_id = pred_dict['class_ids'][0] \n",
    "    probability = pred_dict['probabilities'][class_id]\n",
    "\n",
    "    print(class_id)\n",
    "    print('Prediction is \"{}\" ({:.1f}%)'.format(SPECIES[class_id], 100 * probability))"
   ]
  },
  {
   "cell_type": "code",
   "execution_count": null,
   "metadata": {},
   "outputs": [],
   "source": []
  }
 ],
 "metadata": {
  "kernelspec": {
   "display_name": "Python 3",
   "language": "python",
   "name": "python3"
  },
  "language_info": {
   "codemirror_mode": {
    "name": "ipython",
    "version": 3
   },
   "file_extension": ".py",
   "mimetype": "text/x-python",
   "name": "python",
   "nbconvert_exporter": "python",
   "pygments_lexer": "ipython3",
   "version": "3.7.3"
  }
 },
 "nbformat": 4,
 "nbformat_minor": 2
}
