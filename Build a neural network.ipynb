{
 "cells": [
  {
   "cell_type": "code",
   "execution_count": 2,
   "metadata": {},
   "outputs": [],
   "source": [
    "import tensorflow as tf\n",
    "from tensorflow import keras # keras 是 tensorflow 的 sub module。\n",
    "\n",
    "\n",
    "import numpy as np\n",
    "import matplotlib.pyplot as plt"
   ]
  },
  {
   "cell_type": "markdown",
   "metadata": {},
   "source": [
    "## Load the data:\n",
    "#### 從 keras 讀取需要的資料\n",
    "#### 使用 <font color='red'> .load_data() </font> 產生一個 tuple。\n",
    "---\n",
    "[keras 官方資料](https://keras.io/api/datasets/fashion_mnist/)"
   ]
  },
  {
   "cell_type": "markdown",
   "metadata": {},
   "source": [
    "#### 我覺得這邊不用特別記，因為不同資料又會有不同的讀取方式。"
   ]
  },
  {
   "cell_type": "code",
   "execution_count": 5,
   "metadata": {
    "scrolled": true
   },
   "outputs": [
    {
     "name": "stdout",
     "output_type": "stream",
     "text": [
      "<class 'tensorflow.python.util.module_wrapper.TFModuleWrapper'>\n",
      "<class 'tuple'>\n"
     ]
    }
   ],
   "source": [
    "fashion_mnist = keras.datasets.fashion_mnist  # load dataset\n",
    "print(type(fashion_mnist))\n",
    "\n",
    "\n",
    "(train_images, train_labels), (test_images, test_labels) = fashion_mnist.load_data()  # split into tetsing and training\n",
    "print(type(fashion_mnist.load_data()))"
   ]
  },
  {
   "cell_type": "code",
   "execution_count": 9,
   "metadata": {
    "scrolled": true
   },
   "outputs": [
    {
     "data": {
      "text/plain": [
       "numpy.ndarray"
      ]
     },
     "execution_count": 9,
     "metadata": {},
     "output_type": "execute_result"
    }
   ],
   "source": [
    "type(train_images)"
   ]
  },
  {
   "cell_type": "markdown",
   "metadata": {},
   "source": [
    "#### [關於 numpy 的 array](https://www.geeksforgeeks.org/numpy-ndarray/)\n",
    "##### Array in Numpy:\n",
    "> 很多元素組成的表(table)(通常是 數字)[<font color='red'>資料型態必須相同</font>]  \n",
    "> indexed by a tuple of positive integers (?  \n",
    "> 在 Numpy 裡，array 維度的數量(N 維)叫做 array 的 rank。  \n",
    "> Array 的 shape: <font color='red'>A tuple of integers </font> giving the <font color='blue'>size of the array along each dimension </font>  \n",
    "> 在 Numpy 裡的 array 叫做<font color='red'> ndarray </font>. \n",
    "> Numpy array 裡的元素用 [] 來獲得。且元素可以用 python 的巢狀迴圈實現。"
   ]
  },
  {
   "cell_type": "code",
   "execution_count": 11,
   "metadata": {},
   "outputs": [
    {
     "name": "stdout",
     "output_type": "stream",
     "text": [
      "[1 2 3]\n",
      "3\n"
     ]
    }
   ],
   "source": [
    "array = [[1, 2, 3], [4, 5, 6]]\n",
    "arr = np.array(array)\n",
    "print(arr[0])\n",
    "print(arr[0, 2])"
   ]
  },
  {
   "cell_type": "code",
   "execution_count": 7,
   "metadata": {
    "scrolled": true
   },
   "outputs": [
    {
     "data": {
      "text/plain": [
       "(60000, 28, 28)"
      ]
     },
     "execution_count": 7,
     "metadata": {},
     "output_type": "execute_result"
    }
   ],
   "source": [
    "train_images.shape # keras 提供我們 60000 筆訓練資料，且每筆資料都是 28 pixel * 28 pixel(總共 784 pixels)"
   ]
  },
  {
   "cell_type": "markdown",
   "metadata": {},
   "source": [
    "pixel values: 介於 0-255 之間, 0 代表黑色，255 代表白色。"
   ]
  },
  {
   "cell_type": "code",
   "execution_count": 8,
   "metadata": {},
   "outputs": [
    {
     "data": {
      "text/plain": [
       "194"
      ]
     },
     "execution_count": 8,
     "metadata": {},
     "output_type": "execute_result"
    }
   ],
   "source": [
    "train_images[0,23,23] # 第 0 個資料的第 23 row，第 23 columns(可以這樣想)"
   ]
  },
  {
   "cell_type": "code",
   "execution_count": 12,
   "metadata": {},
   "outputs": [
    {
     "data": {
      "text/plain": [
       "numpy.ndarray"
      ]
     },
     "execution_count": 12,
     "metadata": {},
     "output_type": "execute_result"
    }
   ],
   "source": [
    "type(train_labels)"
   ]
  },
  {
   "cell_type": "code",
   "execution_count": 15,
   "metadata": {},
   "outputs": [
    {
     "data": {
      "text/plain": [
       "2"
      ]
     },
     "execution_count": 15,
     "metadata": {},
     "output_type": "execute_result"
    }
   ],
   "source": [
    "train_labels[5] # 這代表答案，也就是 10 個服裝中的其中一個。"
   ]
  },
  {
   "cell_type": "code",
   "execution_count": 16,
   "metadata": {},
   "outputs": [
    {
     "data": {
      "text/plain": [
       "array([9, 0, 0, 3, 0, 2, 7, 2, 5, 5], dtype=uint8)"
      ]
     },
     "execution_count": 16,
     "metadata": {},
     "output_type": "execute_result"
    }
   ],
   "source": [
    "train_labels[:10] # 前 10 筆資料的答案。"
   ]
  },
  {
   "cell_type": "code",
   "execution_count": 17,
   "metadata": {},
   "outputs": [],
   "source": [
    "# 這些資料都是在 train 之前要自己知道的。\n",
    "class_names = ['T-shirt/top', 'Trouser', 'Pullover', 'Dress', 'Coat',\n",
    "               'Sandal', 'Shirt', 'Sneaker', 'Bag', 'Ankle boot']  "
   ]
  },
  {
   "cell_type": "code",
   "execution_count": 25,
   "metadata": {},
   "outputs": [
    {
     "data": {
      "image/png": "[encoded data removed]",
      "text/plain": [
       "<Figure size 432x288 with 2 Axes>"
      ]
     },
     "metadata": {
      "needs_background": "light"
     },
     "output_type": "display_data"
    }
   ],
   "source": [
    "plt.figure()\n",
    "plt.imshow(train_images[6]) \n",
    "plt.colorbar()\n",
    "plt.grid(False)\n",
    "plt.show()"
   ]
  },
  {
   "cell_type": "markdown",
   "metadata": {},
   "source": [
    "第 7 筆資料看起來像 Sneaker。  \n",
    "回頭去看 train_labels 的第 7 筆資料，發現是 7(代表答案是 class_names 的第 7 個元素)。  \n",
    "的確跟我們猜的一樣。"
   ]
  },
  {
   "cell_type": "markdown",
   "metadata": {},
   "source": [
    "## Data Preprocessing:\n",
    "剛才說到，weights 與 bias 一開始都是 random 的，但是會介於 0 到 1。   \n",
    "那我們的資料是介於 0 到 255。如果資料太大，但 weights 過小，好像怪怪的。    \n",
    "因此<font color='red'>盡量讓 input data 也是介於 0 到 1</font>。"
   ]
  },
  {
   "cell_type": "code",
   "execution_count": 26,
   "metadata": {},
   "outputs": [],
   "source": [
    "train_images = train_images / 255.0\n",
    "\n",
    "test_images = test_images / 255.0"
   ]
  },
  {
   "cell_type": "markdown",
   "metadata": {},
   "source": [
    "## Build the model:\n",
    "資料處理好以後，就可以建造 model 了!"
   ]
  },
  {
   "cell_type": "code",
   "execution_count": 28,
   "metadata": {},
   "outputs": [
    {
     "name": "stdout",
     "output_type": "stream",
     "text": [
      "WARNING:tensorflow:From C:\\Users\\User\\Anaconda3\\lib\\site-packages\\tensorflow_core\\python\\ops\\resource_variable_ops.py:1630: calling BaseResourceVariable.__init__ (from tensorflow.python.ops.resource_variable_ops) with constraint is deprecated and will be removed in a future version.\n",
      "Instructions for updating:\n",
      "If using Keras pass *_constraint arguments to layers.\n"
     ]
    }
   ],
   "source": [
    "model = keras.Sequential([\n",
    "    keras.layers.Flatten(input_shape=(28, 28)),  # input layer (1)\n",
    "    keras.layers.Dense(128, activation='relu'),  # hidden layer (2)\n",
    "    keras.layers.Dense(10, activation='softmax') # output layer (3)\n",
    "])"
   ]
  },
  {
   "cell_type": "markdown",
   "metadata": {},
   "source": [
    "- <font color='green'> keras.Sequential() </font>:   \n",
    "    這個 model 是 sequential(照順序的) 的。[也就是經由 input layer，再傳到 hidden layer，最後丟給 output layer]  \n",
    "- <font color='green'> keras.layers.Flatten() </font>:   \n",
    "    我們把這當第一層(input layer)。  \n",
    "    .Flatten() 將 28*28 的 array，轉換為 784 個 neurons 的 vector。  \n",
    "- <font color='green'> keras.layers.Dense() </font>:  \n",
    "    我們將這當作 hidden layers 與 output layer。 \n",
    "    .Dense() 確保所有 neuron 都有互相連接。[筆記有定義 dense](http://localhost:8888/notebooks/TensorFlow_notes/Neural%20Networks%20%E5%90%8D%E8%A9%9E%E8%A7%A3%E9%87%8B.ipynb)"
   ]
  },
  {
   "cell_type": "markdown",
   "metadata": {},
   "source": [
    "## Compile the model ( <font color='green'>.compile()</font> ):"
   ]
  },
  {
   "cell_type": "code",
   "execution_count": 29,
   "metadata": {},
   "outputs": [],
   "source": [
    "model.compile(optimizer='adam',\n",
    "              loss='sparse_categorical_crossentropy',\n",
    "              metrics=['accuracy']) # 我們要取得 metrics 的 accuracy。"
   ]
  },
  {
   "cell_type": "markdown",
   "metadata": {},
   "source": [
    "向上面包括:\n",
    "- hidden layer 的 neurons 數(128)\n",
    "- activation functions\n",
    "- optimizer\n",
    "- loss function\n",
    "\n",
    "都是可以自己修改，並根據情況調整的。    \n",
    "這樣的 parameters 稱為 hyper parameters。"
   ]
  },
  {
   "cell_type": "markdown",
   "metadata": {},
   "source": [
    "## Fit (the data to) the model (<font color='green'> .fit() </font>):"
   ]
  },
  {
   "cell_type": "code",
   "execution_count": 31,
   "metadata": {},
   "outputs": [
    {
     "name": "stdout",
     "output_type": "stream",
     "text": [
      "Train on 60000 samples\n",
      "Epoch 1/10\n",
      "60000/60000 [==============================] - 4s 63us/sample - loss: 0.5036 - acc: 0.8224\n",
      "Epoch 2/10\n",
      "60000/60000 [==============================] - 3s 50us/sample - loss: 0.3757 - acc: 0.8637\n",
      "Epoch 3/10\n",
      "60000/60000 [==============================] - 3s 53us/sample - loss: 0.3361 - acc: 0.87820s - loss: 0.3358 - acc: 0.\n",
      "Epoch 4/10\n",
      "60000/60000 [==============================] - 3s 46us/sample - loss: 0.3122 - acc: 0.8865\n",
      "Epoch 5/10\n",
      "60000/60000 [==============================] - 3s 51us/sample - loss: 0.2960 - acc: 0.89081s - loss: 0.2965 -  - ETA: 1s - loss: 0.299 - ETA: 0s - loss: 0.2959 - acc:\n",
      "Epoch 6/10\n",
      "60000/60000 [==============================] - 4s 59us/sample - loss: 0.2813 - acc: 0.8971\n",
      "Epoch 7/10\n",
      "60000/60000 [==============================] - 3s 45us/sample - loss: 0.2695 - acc: 0.9000\n",
      "Epoch 8/10\n",
      "60000/60000 [==============================] - 4s 74us/sample - loss: 0.2578 - acc: 0.9036\n",
      "Epoch 9/10\n",
      "60000/60000 [==============================] - 3s 53us/sample - loss: 0.2487 - acc: 0.9088\n",
      "Epoch 10/10\n",
      "60000/60000 [==============================] - 3s 47us/sample - loss: 0.2404 - acc: 0.9102\n"
     ]
    },
    {
     "data": {
      "text/plain": [
       "<tensorflow.python.keras.callbacks.History at 0x19ec42179e8>"
      ]
     },
     "execution_count": 31,
     "metadata": {},
     "output_type": "execute_result"
    }
   ],
   "source": [
    "model.fit(train_images, train_labels, epochs=10) # 注意到比之前還要用 input function 簡單多了。 keras 幫我們 handle 了一切。\n",
    "# epoch 也是一個 hyper parameter。"
   ]
  },
  {
   "cell_type": "markdown",
   "metadata": {},
   "source": [
    "## Evaluate the model ( <font color='green'>.evaluate() </font> ):"
   ]
  },
  {
   "cell_type": "code",
   "execution_count": 32,
   "metadata": {},
   "outputs": [
    {
     "name": "stdout",
     "output_type": "stream",
     "text": [
      "10000/10000 [==============================] - ETA: 0s - loss: 0.3600 - acc: 0.872 - ETA: 0s - loss: 0.3463 - acc: 0.877 - 0s 28us/sample - loss: 0.3477 - acc: 0.8778\n",
      "Test accuracy: 0.8778\n"
     ]
    }
   ],
   "source": [
    "test_loss, test_acc = model.evaluate(test_images,  test_labels, verbose=1) \n",
    "\n",
    "print('Test accuracy:', test_acc)"
   ]
  },
  {
   "cell_type": "markdown",
   "metadata": {},
   "source": [
    "注意到 accuracy 在 train model (0.9102) 跟 evaluate model (0.8778) 時是不一樣的。  \n",
    "這是因為 <font color='red'> overfitting </font>。  \n",
    "<font color='red'>Overfitting 的原因跟 epch 的數字有關，因此不要想說一次帶個 100 個 epoch 就會有最好的結果。</font>"
   ]
  },
  {
   "cell_type": "markdown",
   "metadata": {},
   "source": [
    "## Make the prediction( <font color='green'> .predict() </font>)"
   ]
  },
  {
   "cell_type": "code",
   "execution_count": 33,
   "metadata": {},
   "outputs": [
    {
     "data": {
      "text/plain": [
       "numpy.ndarray"
      ]
     },
     "execution_count": 33,
     "metadata": {},
     "output_type": "execute_result"
    }
   ],
   "source": [
    "predictions = model.predict(test_images)\n",
    "type(predictions)"
   ]
  },
  {
   "cell_type": "code",
   "execution_count": 34,
   "metadata": {},
   "outputs": [
    {
     "data": {
      "text/plain": [
       "array([[2.6044688e-07, 1.8956374e-09, 7.2407662e-09, ..., 6.7869596e-02,\n",
       "        6.2364685e-05, 9.3187052e-01],\n",
       "       [1.3353970e-05, 2.4084228e-15, 9.9953187e-01, ..., 1.7060325e-20,\n",
       "        2.0454381e-10, 2.7558693e-17],\n",
       "       [1.0412095e-10, 1.0000000e+00, 1.7338080e-14, ..., 1.5129580e-22,\n",
       "        9.7454822e-19, 2.1253059e-19],\n",
       "       ...,\n",
       "       [1.9491481e-06, 8.8991356e-11, 2.6714636e-06, ..., 1.9512018e-13,\n",
       "        9.9995887e-01, 2.8131436e-15],\n",
       "       [4.9427767e-10, 9.9999952e-01, 4.5692330e-12, ..., 1.4957762e-14,\n",
       "        4.8061181e-13, 1.4718697e-11],\n",
       "       [1.3767331e-04, 6.1328848e-08, 2.4172274e-05, ..., 1.6985550e-03,\n",
       "        4.1598131e-04, 5.1783391e-06]], dtype=float32)"
      ]
     },
     "execution_count": 34,
     "metadata": {},
     "output_type": "execute_result"
    }
   ],
   "source": [
    "predictions"
   ]
  },
  {
   "cell_type": "code",
   "execution_count": 35,
   "metadata": {},
   "outputs": [
    {
     "data": {
      "text/plain": [
       "(10000, 10)"
      ]
     },
     "execution_count": 35,
     "metadata": {},
     "output_type": "execute_result"
    }
   ],
   "source": [
    "predictions.shape"
   ]
  },
  {
   "cell_type": "markdown",
   "metadata": {},
   "source": [
    "有 10000 筆資料，每筆資料代表有 10 個小數，代表 probability distribution。"
   ]
  },
  {
   "cell_type": "code",
   "execution_count": 36,
   "metadata": {},
   "outputs": [
    {
     "data": {
      "text/plain": [
       "array([2.6044688e-07, 1.8956374e-09, 7.2407662e-09, 2.2368341e-09,\n",
       "       3.5985230e-09, 1.9687961e-04, 3.1012777e-07, 6.7869596e-02,\n",
       "       6.2364685e-05, 9.3187052e-01], dtype=float32)"
      ]
     },
     "execution_count": 36,
     "metadata": {},
     "output_type": "execute_result"
    }
   ],
   "source": [
    "predictions[0] # 第 0 筆資料的 prediction probability distribution"
   ]
  },
  {
   "cell_type": "markdown",
   "metadata": {},
   "source": [
    "印出第 0 筆資料最大值的 index: <font color='green'> np.argmax() </font>"
   ]
  },
  {
   "cell_type": "code",
   "execution_count": 38,
   "metadata": {},
   "outputs": [
    {
     "data": {
      "text/plain": [
       "9"
      ]
     },
     "execution_count": 38,
     "metadata": {},
     "output_type": "execute_result"
    }
   ],
   "source": [
    "np.argmax(predictions[0]) "
   ]
  },
  {
   "cell_type": "markdown",
   "metadata": {},
   "source": [
    "numpy 回傳第 9 個 index，表示電腦認為第 1 筆資料是 class 的第 9 個 index，  \n",
    "來看看第 9 個 index 是甚麼:\n",
    "```python\n",
    "class_names = ['T-shirt/top', 'Trouser', 'Pullover', 'Dress', 'Coat',\n",
    "               'Sandal', 'Shirt', 'Sneaker', 'Bag', 'Ankle boot'] \n",
    "```"
   ]
  },
  {
   "cell_type": "code",
   "execution_count": 39,
   "metadata": {},
   "outputs": [
    {
     "name": "stdout",
     "output_type": "stream",
     "text": [
      "Ankle boot\n"
     ]
    }
   ],
   "source": [
    "print(class_names[9])"
   ]
  },
  {
   "cell_type": "code",
   "execution_count": 41,
   "metadata": {},
   "outputs": [
    {
     "data": {
      "text/plain": [
       "9"
      ]
     },
     "execution_count": 41,
     "metadata": {},
     "output_type": "execute_result"
    }
   ],
   "source": [
    "test_labels[0] # 電腦判斷正確!"
   ]
  },
  {
   "cell_type": "markdown",
   "metadata": {},
   "source": [
    "把圖畫出來:"
   ]
  },
  {
   "cell_type": "code",
   "execution_count": 42,
   "metadata": {
    "scrolled": true
   },
   "outputs": [
    {
     "data": {
      "image/png": "[encoded data removed]",
      "text/plain": [
       "<Figure size 432x288 with 2 Axes>"
      ]
     },
     "metadata": {
      "needs_background": "light"
     },
     "output_type": "display_data"
    }
   ],
   "source": [
    "plt.figure()\n",
    "plt.imshow(test_images[0]) \n",
    "plt.colorbar()\n",
    "plt.grid(False)\n",
    "plt.show()\n",
    "# 的確是 ankle boot。"
   ]
  },
  {
   "cell_type": "markdown",
   "metadata": {},
   "source": [
    "一些可以跟使用者互動的 functions:"
   ]
  },
  {
   "cell_type": "code",
   "execution_count": null,
   "metadata": {},
   "outputs": [],
   "source": [
    "COLOR = 'white'\n",
    "plt.rcParams['text.color'] = COLOR\n",
    "plt.rcParams['axes.labelcolor'] = COLOR\n",
    "\n",
    "def predict(model, image, correct_label):\n",
    "    class_names = ['T-shirt/top', 'Trouser', 'Pullover', 'Dress', 'Coat',\n",
    "               'Sandal', 'Shirt', 'Sneaker', 'Bag', 'Ankle boot']\n",
    "    prediction = model.predict(np.array([image]))\n",
    "    predicted_class = class_names[np.argmax(prediction)]\n",
    "\n",
    "    show_image(image, class_names[correct_label], predicted_class)\n",
    "\n",
    "\n",
    "def show_image(img, label, guess):\n",
    "    plt.figure()\n",
    "    plt.imshow(img, cmap=plt.cm.binary)\n",
    "    plt.title(\"Excpected: \" + label)\n",
    "    plt.xlabel(\"Guess: \" + guess)\n",
    "    plt.colorbar()\n",
    "    plt.grid(False)\n",
    "    plt.show()\n",
    "\n",
    "\n",
    "def get_number():\n",
    "    while True:\n",
    "        num = input(\"Pick a number: \")\n",
    "        if num.isdigit():\n",
    "            num = int(num)\n",
    "        if 0 <= num <= 1000:\n",
    "            return int(num)\n",
    "        else:\n",
    "            print(\"Try again...\")\n",
    "\n",
    "num = get_number()\n",
    "image = test_images[num]\n",
    "label = test_labels[num]\n",
    "predict(model, image, label)"
   ]
  },
  {
   "cell_type": "code",
   "execution_count": null,
   "metadata": {},
   "outputs": [],
   "source": []
  }
 ],
 "metadata": {
  "kernelspec": {
   "display_name": "Python 3",
   "language": "python",
   "name": "python3"
  },
  "language_info": {
   "codemirror_mode": {
    "name": "ipython",
    "version": 3
   },
   "file_extension": ".py",
   "mimetype": "text/x-python",
   "name": "python",
   "nbconvert_exporter": "python",
   "pygments_lexer": "ipython3",
   "version": "3.7.3"
  }
 },
 "nbformat": 4,
 "nbformat_minor": 2
}
