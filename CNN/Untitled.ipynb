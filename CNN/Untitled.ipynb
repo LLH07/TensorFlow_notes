{
 "cells": [
  {
   "cell_type": "markdown",
   "metadata": {},
   "source": [
    "#### 我們要創造一個 CNN 神經網路! \n",
    "[運用的資料: **CIFAR Image Dataset**](https://www.cs.toronto.edu/~kriz/cifar.html)\n",
    "資料裡有 60000 筆 32*32 彩色圖片。  \n",
    "圖片的內容是 10 個日常生活的東西(每個東西有 6000 筆 data)。  \n",
    "總共有這些 classes:\n",
    "- Airplane\n",
    "- Automobile\n",
    "- Bird\n",
    "- Cat\n",
    "- Deer\n",
    "- Dog\n",
    "- Frog\n",
    "- Horse\n",
    "- Ship\n",
    "- Truck"
   ]
  },
  {
   "cell_type": "markdown",
   "metadata": {},
   "source": [
    "## Import necessary packages:"
   ]
  },
  {
   "cell_type": "code",
   "execution_count": 1,
   "metadata": {},
   "outputs": [],
   "source": [
    "import tensorflow as tf\n",
    "\n",
    "from tensorflow.keras import datasets, layers, models\n",
    "import matplotlib.pyplot as plt"
   ]
  },
  {
   "cell_type": "markdown",
   "metadata": {},
   "source": [
    "## Import the data set:"
   ]
  },
  {
   "cell_type": "markdown",
   "metadata": {},
   "source": [
    "關於 keras 的 datasets 相關問題，可以看看 [Build a neural network 的筆記]。(https://nbviewer.jupyter.org/github/LLH07/TensorFlow_notes/blob/master/CNN/Build%20a%20neural%20network.ipynb)"
   ]
  },
  {
   "cell_type": "code",
   "execution_count": 2,
   "metadata": {},
   "outputs": [
    {
     "name": "stdout",
     "output_type": "stream",
     "text": [
      "Downloading data from https://www.cs.toronto.edu/~kriz/cifar-10-python.tar.gz\n",
      "170500096/170498071 [==============================] - 61s 0us/step\n"
     ]
    }
   ],
   "source": [
    "(train_images, train_labels), (test_images, test_labels) = datasets.cifar10.load_data()"
   ]
  },
  {
   "cell_type": "code",
   "execution_count": 10,
   "metadata": {},
   "outputs": [
    {
     "name": "stdout",
     "output_type": "stream",
     "text": [
      "(32, 32, 3)\n"
     ]
    }
   ],
   "source": [
    "print(train_images[0].shape)"
   ]
  },
  {
   "cell_type": "code",
   "execution_count": 3,
   "metadata": {},
   "outputs": [],
   "source": [
    "# 將資料 normalize 成 0-255\n",
    "train_images, test_images = train_images / 255.0, test_images / 255.0\n",
    "\n",
    "class_names = ['airplane', 'automobile', 'bird', 'cat', 'deer',\n",
    "               'dog', 'frog', 'horse', 'ship', 'truck']"
   ]
  },
  {
   "cell_type": "code",
   "execution_count": 8,
   "metadata": {
    "scrolled": true
   },
   "outputs": [
    {
     "data": {
      "image/png": "[encoded data removed]",
      "text/plain": [
       "<Figure size 432x288 with 1 Axes>"
      ]
     },
     "metadata": {
      "needs_background": "light"
     },
     "output_type": "display_data"
    }
   ],
   "source": [
    "# 看一下資料長怎樣:\n",
    "IMG_INDEX = 7\n",
    "plt.imshow(train_images[IMG_INDEX] ,cmap=plt.cm.binary)\n",
    "plt.xlabel(class_names[train_labels[IMG_INDEX][0]])\n",
    "plt.show()"
   ]
  },
  {
   "cell_type": "markdown",
   "metadata": {},
   "source": [
    "## Create CNN"
   ]
  },
  {
   "cell_type": "markdown",
   "metadata": {},
   "source": [
    "```python\n",
    ".Conv2D(32, (3, 3), activation='relu', input_shape=(32, 32, 3)))\n",
    "```\n",
    "依序代表:\n",
    "- filter 的大小是 3*3，且有 32 層。\n",
    "- 是用 relu activation function。<font color='red'> Activation function 的使用時機是 input feature map 與 filter 做完 dot product(內積) 後，就丟進 activation function。</font>\n",
    "- input data 的 shape 是 32*32，且有 3 層。"
   ]
  },
  {
   "cell_type": "markdown",
   "metadata": {},
   "source": [
    "```python\n",
    ".MaxPooling2D( (2, 2) )\n",
    "```\n",
    "代表 pooling 的大小是 2*2 (stride = 2)。"
   ]
  },
  {
   "cell_type": "markdown",
   "metadata": {},
   "source": [
    "注意到第二層的 filter 頻率提升到了 64。\n",
    " \n",
    "> We can do this as our data shrinks in spacial dimensions as it passed through the layers.  \n",
    "> we can afford (computationally) to add more depth."
   ]
  },
  {
   "cell_type": "code",
   "execution_count": 12,
   "metadata": {
    "scrolled": true
   },
   "outputs": [
    {
     "name": "stdout",
     "output_type": "stream",
     "text": [
      "WARNING:tensorflow:From C:\\Users\\User\\Anaconda3\\lib\\site-packages\\tensorflow_core\\python\\ops\\resource_variable_ops.py:1630: calling BaseResourceVariable.__init__ (from tensorflow.python.ops.resource_variable_ops) with constraint is deprecated and will be removed in a future version.\n",
      "Instructions for updating:\n",
      "If using Keras pass *_constraint arguments to layers.\n"
     ]
    }
   ],
   "source": [
    "model = models.Sequential()\n",
    "model.add(layers.Conv2D(32, (3, 3), activation='relu', input_shape=(32, 32, 3)))\n",
    "model.add(layers.MaxPooling2D((2, 2)))\n",
    "model.add(layers.Conv2D(64, (3, 3), activation='relu'))\n",
    "model.add(layers.MaxPooling2D((2, 2)))\n",
    "model.add(layers.Conv2D(64, (3, 3), activation='relu'))"
   ]
  },
  {
   "cell_type": "markdown",
   "metadata": {},
   "source": [
    "### 用 <font color='green'> .summary() </font> 來查看 model。"
   ]
  },
  {
   "cell_type": "code",
   "execution_count": 13,
   "metadata": {},
   "outputs": [
    {
     "name": "stdout",
     "output_type": "stream",
     "text": [
      "Model: \"sequential\"\n",
      "_________________________________________________________________\n",
      "Layer (type)                 Output Shape              Param #   \n",
      "=================================================================\n",
      "conv2d (Conv2D)              (None, 30, 30, 32)        896       \n",
      "_________________________________________________________________\n",
      "max_pooling2d (MaxPooling2D) (None, 15, 15, 32)        0         \n",
      "_________________________________________________________________\n",
      "conv2d_1 (Conv2D)            (None, 13, 13, 64)        18496     \n",
      "_________________________________________________________________\n",
      "max_pooling2d_1 (MaxPooling2 (None, 6, 6, 64)          0         \n",
      "_________________________________________________________________\n",
      "conv2d_2 (Conv2D)            (None, 4, 4, 64)          36928     \n",
      "=================================================================\n",
      "Total params: 56,320\n",
      "Trainable params: 56,320\n",
      "Non-trainable params: 0\n",
      "_________________________________________________________________\n"
     ]
    }
   ],
   "source": [
    "model.summary()"
   ]
  },
  {
   "cell_type": "markdown",
   "metadata": {},
   "source": [
    "注意到:  \n",
    "1. \n",
    "    經過一層 layer(conv2d)，output 從原本的 32*32*3 變成了 30*30*32:  \n",
    "    這是因為我們沒有做 padding，因此 output feature 本來就會比較小。  \n",
    "    至於為何從 3 變為 32? 可能是因為經過 filters(沒有很確定)。\n",
    "2.  經過一層 max_pooling 後，output 大小從 30*30 變為 15*15。\n",
    "    這是因為我們給的 pooling 是 2*2 的，因此會將原先的圖縮小 1 倍。"
   ]
  },
  {
   "cell_type": "markdown",
   "metadata": {},
   "source": [
    "而這還不是最後，到目前為止，我們成功創建了 convolutional layers。  \n",
    "但 convolutional layers 做的是將整張照片的所有 features 都找出來。  \n",
    "下一步，應該將這些 features 做分類(比如如有這些 features 就分類為 class 1，有那些就分類為 class 2...)  \n",
    "畢竟最終目標是輸出 0-10 的其中一個。"
   ]
  },
  {
   "cell_type": "markdown",
   "metadata": {},
   "source": [
    "## Adding Dense Layers ( <font color='green'>.add() </font> )(to classify):"
   ]
  },
  {
   "cell_type": "code",
   "execution_count": 19,
   "metadata": {},
   "outputs": [],
   "source": [
    "model.add(layers.Flatten()) # 將 4*4*64 拉成單維。\n",
    "model.add(layers.Dense(64, activation='relu')) # fully dense\n",
    "model.add(layers.Dense(10)) # output 必須是 10。"
   ]
  },
  {
   "cell_type": "code",
   "execution_count": 20,
   "metadata": {},
   "outputs": [
    {
     "name": "stdout",
     "output_type": "stream",
     "text": [
      "Model: \"sequential\"\n",
      "_________________________________________________________________\n",
      "Layer (type)                 Output Shape              Param #   \n",
      "=================================================================\n",
      "conv2d (Conv2D)              (None, 30, 30, 32)        896       \n",
      "_________________________________________________________________\n",
      "max_pooling2d (MaxPooling2D) (None, 15, 15, 32)        0         \n",
      "_________________________________________________________________\n",
      "conv2d_1 (Conv2D)            (None, 13, 13, 64)        18496     \n",
      "_________________________________________________________________\n",
      "max_pooling2d_1 (MaxPooling2 (None, 6, 6, 64)          0         \n",
      "_________________________________________________________________\n",
      "conv2d_2 (Conv2D)            (None, 4, 4, 64)          36928     \n",
      "_________________________________________________________________\n",
      "flatten (Flatten)            (None, 1024)              0         \n",
      "_________________________________________________________________\n",
      "dense (Dense)                (None, 64)                65600     \n",
      "_________________________________________________________________\n",
      "dense_1 (Dense)              (None, 10)                650       \n",
      "_________________________________________________________________\n",
      "flatten_1 (Flatten)          (None, 10)                0         \n",
      "_________________________________________________________________\n",
      "dense_2 (Dense)              (None, 64)                704       \n",
      "_________________________________________________________________\n",
      "dense_3 (Dense)              (None, 10)                650       \n",
      "=================================================================\n",
      "Total params: 123,924\n",
      "Trainable params: 123,924\n",
      "Non-trainable params: 0\n",
      "_________________________________________________________________\n"
     ]
    }
   ],
   "source": [
    "model.summary() "
   ]
  },
  {
   "cell_type": "markdown",
   "metadata": {},
   "source": [
    "注意到 flatten 層的 1024，即為前一層的 4*4*64=1024。"
   ]
  },
  {
   "cell_type": "markdown",
   "metadata": {},
   "source": [
    "## Compile the model ( <font color='green'>.compile()</font> ):"
   ]
  },
  {
   "cell_type": "code",
   "execution_count": 21,
   "metadata": {},
   "outputs": [],
   "source": [
    "model.compile(optimizer='adam',\n",
    "              loss=tf.keras.losses.SparseCategoricalCrossentropy(from_logits=True),\n",
    "              metrics=['accuracy'])"
   ]
  },
  {
   "cell_type": "markdown",
   "metadata": {},
   "source": [
    "## Fit (the data to) the model (<font color='green'> .fit() </font>):"
   ]
  },
  {
   "cell_type": "markdown",
   "metadata": {},
   "source": [
    "這次在 fit 時，多了 validation_data 的參數 (跟 Build a neuron network 比)，不太明白差別。  \n",
    "根據 [這篇文章(第一個回答)](https://stackoverflow.com/questions/46308374/what-is-validation-data-used-for-in-a-keras-sequential-model)，如果多加了 validation_data，這樣就多一層驗證，accuracy 應該比較高。  \n",
    "經過實驗好像是這樣。  \n",
    "上面的圖是有加 validation_data。  \n",
    "下面的圖則無。"
   ]
  },
  {
   "cell_type": "markdown",
   "metadata": {},
   "source": [
    "![pic1](data:image/png;base64,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)\n",
    "![pic2](data:image/png;base64,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)"
   ]
  },
  {
   "cell_type": "code",
   "execution_count": 26,
   "metadata": {},
   "outputs": [
    {
     "name": "stdout",
     "output_type": "stream",
     "text": [
      "Train on 50000 samples, validate on 10000 samples\n",
      "Epoch 1/10\n",
      "50000/50000 [==============================] - 26s 516us/sample - loss: 0.3598 - acc: 0.8713 - val_loss: 1.1967 - val_acc: 0.6915\n",
      "Epoch 2/10\n",
      "50000/50000 [==============================] - 24s 484us/sample - loss: 0.3483 - acc: 0.8752 - val_loss: 1.1682 - val_acc: 0.6998\n",
      "Epoch 3/10\n",
      "50000/50000 [==============================] - 24s 474us/sample - loss: 0.3250 - acc: 0.8844 - val_loss: 1.2270 - val_acc: 0.6972\n",
      "Epoch 4/10\n",
      "50000/50000 [==============================] - 24s 477us/sample - loss: 0.3091 - acc: 0.8898 - val_loss: 1.2540 - val_acc: 0.6922\n",
      "Epoch 5/10\n",
      "50000/50000 [==============================] - 24s 481us/sample - loss: 0.2894 - acc: 0.8965 - val_loss: 1.3093 - val_acc: 0.6952\n",
      "Epoch 6/10\n",
      "50000/50000 [==============================] - 23s 465us/sample - loss: 0.2845 - acc: 0.8980 - val_loss: 1.3249 - val_acc: 0.6974\n",
      "Epoch 7/10\n",
      "50000/50000 [==============================] - 23s 467us/sample - loss: 0.2767 - acc: 0.9003 - val_loss: 1.4015 - val_acc: 0.6871\n",
      "Epoch 8/10\n",
      "50000/50000 [==============================] - 24s 480us/sample - loss: 0.2572 - acc: 0.9076 - val_loss: 1.4372 - val_acc: 0.6946\n",
      "Epoch 9/10\n",
      "50000/50000 [==============================] - 24s 479us/sample - loss: 0.2467 - acc: 0.9114 - val_loss: 1.4703 - val_acc: 0.6916\n",
      "Epoch 10/10\n",
      "50000/50000 [==============================] - 23s 458us/sample - loss: 0.2379 - acc: 0.9146 - val_loss: 1.4870 - val_acc: 0.6972\n"
     ]
    }
   ],
   "source": [
    "history = model.fit(train_images, train_labels, epochs=10, validation_data=(test_images, test_labels))"
   ]
  },
  {
   "cell_type": "code",
   "execution_count": 27,
   "metadata": {},
   "outputs": [
    {
     "name": "stdout",
     "output_type": "stream",
     "text": [
      "10000/10000 - 2s - loss: 1.4870 - acc: 0.6972\n",
      "0.6972\n"
     ]
    }
   ],
   "source": [
    "test_loss, test_acc = model.evaluate(test_images,  test_labels, verbose=2)\n",
    "print(test_acc)"
   ]
  },
  {
   "cell_type": "markdown",
   "metadata": {},
   "source": [
    "由上面的例子我們發現，給了 60000 筆資料，但卻只有六十幾趴的精準度。    \n",
    "這代表需要非常非常多的資料才能提升精準度。\n",
    "------\n",
    "那如果我就沒有那麼多資料呢?  \n",
    "ANS: 我可以<font color='red'>將同一個資料(eg 圖片)，經過壓縮，拉長，旋轉，壓扁...等方法，讓一張照片變為很多張不同的照片。</font>    "
   ]
  },
  {
   "cell_type": "markdown",
   "metadata": {},
   "source": [
    "### Data Augmentation(增廣)"
   ]
  },
  {
   "cell_type": "code",
   "execution_count": 29,
   "metadata": {},
   "outputs": [
    {
     "name": "stderr",
     "output_type": "stream",
     "text": [
      "Using TensorFlow backend.\n"
     ]
    },
    {
     "data": {
      "image/png": "[encoded data removed]",
      "text/plain": [
       "<Figure size 432x288 with 1 Axes>"
      ]
     },
     "metadata": {
      "needs_background": "light"
     },
     "output_type": "display_data"
    },
    {
     "data": {
      "image/png": "[encoded data removed]",
      "text/plain": [
       "<Figure size 432x288 with 1 Axes>"
      ]
     },
     "metadata": {
      "needs_background": "light"
     },
     "output_type": "display_data"
    },
    {
     "data": {
      "image/png": "[encoded data removed]",
      "text/plain": [
       "<Figure size 432x288 with 1 Axes>"
      ]
     },
     "metadata": {
      "needs_background": "light"
     },
     "output_type": "display_data"
    },
    {
     "data": {
      "image/png": "[encoded data removed]",
      "text/plain": [
       "<Figure size 432x288 with 1 Axes>"
      ]
     },
     "metadata": {
      "needs_background": "light"
     },
     "output_type": "display_data"
    },
    {
     "data": {
      "image/png": "[encoded data removed]",
      "text/plain": [
       "<Figure size 432x288 with 1 Axes>"
      ]
     },
     "metadata": {
      "needs_background": "light"
     },
     "output_type": "display_data"
    }
   ],
   "source": [
    "from keras.preprocessing import image\n",
    "from keras.preprocessing.image import ImageDataGenerator\n",
    "\n",
    "# creates a data generator object that transforms images\n",
    "# 將 input data(圖片)做一些處理。\n",
    "datagen = ImageDataGenerator(\n",
    "rotation_range=40,\n",
    "width_shift_range=0.2,\n",
    "height_shift_range=0.2,\n",
    "shear_range=0.2,\n",
    "zoom_range=0.2,\n",
    "horizontal_flip=True,\n",
    "fill_mode='nearest')\n",
    "#-------------------------------------------------------------------------------------------------------------------------\n",
    "\n",
    "# 隨便挑一張來測試:\n",
    "test_img = train_images[20]\n",
    "img = image.img_to_array(test_img)  # convert image to numpy arry\n",
    "img = img.reshape((1,) + img.shape)  # reshape image\n",
    "\n",
    "i = 0\n",
    "\n",
    "for batch in datagen.flow(img, save_prefix='test', save_format='jpeg'):  # this loops runs forever until we break, saving images to current directory with specified prefix\n",
    "    plt.figure(i)\n",
    "    plot = plt.imshow(image.img_to_array(batch[0]))\n",
    "    i += 1\n",
    "    if i > 4:  # show 4 images\n",
    "        break\n",
    "\n",
    "plt.show()"
   ]
  },
  {
   "cell_type": "code",
   "execution_count": null,
   "metadata": {},
   "outputs": [],
   "source": []
  }
 ],
 "metadata": {
  "kernelspec": {
   "display_name": "Python 3",
   "language": "python",
   "name": "python3"
  },
  "language_info": {
   "codemirror_mode": {
    "name": "ipython",
    "version": 3
   },
   "file_extension": ".py",
   "mimetype": "text/x-python",
   "name": "python",
   "nbconvert_exporter": "python",
   "pygments_lexer": "ipython3",
   "version": "3.7.3"
  }
 },
 "nbformat": 4,
 "nbformat_minor": 2
}
