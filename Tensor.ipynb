{
 "cells": [
  {
   "cell_type": "markdown",
   "metadata": {},
   "source": [
    "[筆記來源](https://colab.research.google.com/drive/1F_EWVKa8rbMXi3_fG0w7AtcscFq7Hi7B#forceEdit=true&sandboxMode=true&scrollTo=duDj86TfWFof)"
   ]
  },
  {
   "cell_type": "markdown",
   "metadata": {},
   "source": [
    "#### TensorFlow 是 Google 維護，他是一個 Machine Learning Library。\n",
    "#### 在 TensorFlow 裡，只有三種物件(?)，<font color='red'> tensors, graphs 與 sessions </font>"
   ]
  },
  {
   "cell_type": "markdown",
   "metadata": {},
   "source": [
    "- graphs: 這裡沒有確切的值，只有類似等式的關係，比如 Vector1 = Vector2 + Vector3\n",
    "- sessions: "
   ]
  },
  {
   "cell_type": "markdown",
   "metadata": {},
   "source": [
    "> <font color='blue'> Tensor </font> :A <font color='red'>generalization of vectors and matrices to potentially higher dimensions</font>. Internally, TensorFlow represents tensors as n-dimensional arrays of base datatypes  \n",
    "> 每個 tensor 都有其 <font color='red'>data type 與 shape</font>\n",
    "- data type: float32, int32, string...\n",
    "- shape: 代表 data 的 dimension"
   ]
  },
  {
   "cell_type": "markdown",
   "metadata": {},
   "source": [
    "> <font color = 'blue'>Graph: </font> Building a graph of Tensor objects that details how tensors are related. Running different parts of the graph allow results to be generated."
   ]
  },
  {
   "cell_type": "code",
   "execution_count": 1,
   "metadata": {},
   "outputs": [],
   "source": [
    "import tensorflow as tf"
   ]
  },
  {
   "cell_type": "markdown",
   "metadata": {},
   "source": [
    "### 創建一個 tensor 物件。\n",
    "#### 使用 .Variable() method。\n",
    "#### 括號內第一個參數代表資料的內容(value)，第二個參數是 data type，而此 tensor 的 shape 是 1(1 個 value)[shape=1 的 tensor，其 shape 又可稱 scale]\n",
    "#### 此 tensor 的 rank(degree) 是 0。"
   ]
  },
  {
   "cell_type": "code",
   "execution_count": 2,
   "metadata": {},
   "outputs": [],
   "source": [
    "string = tf.Variable('This is a string', tf.string)"
   ]
  },
  {
   "cell_type": "markdown",
   "metadata": {},
   "source": [
    "#### 此 tensor 的 rank 是 1。因為 list 可以存很多 value\n",
    "#### 用 <font color='red'> .rank() </font> 來確認 rank:"
   ]
  },
  {
   "cell_type": "code",
   "execution_count": 3,
   "metadata": {},
   "outputs": [
    {
     "name": "stdout",
     "output_type": "stream",
     "text": [
      "Tensor(\"Rank:0\", shape=(), dtype=int32)\n"
     ]
    },
    {
     "data": {
      "text/plain": [
       "TensorShape([Dimension(3), Dimension(2)])"
      ]
     },
     "execution_count": 3,
     "metadata": {},
     "output_type": "execute_result"
    }
   ],
   "source": [
    "rank1_string = tf.Variable(['Hello', 'World'], tf.string)\n",
    "\n",
    "\n",
    "rank2_string = tf.Variable([['Hello', 'Python'], ['Hello', 'C++'], ['Good', 'day']], tf.string) # 這稱為 matric(矩陣)\n",
    "print(tf.rank(rank2_string))\n",
    "rank2_string.shape"
   ]
  },
  {
   "cell_type": "markdown",
   "metadata": {},
   "source": [
    "#### <font color='red'>.shape</font>"
   ]
  },
  {
   "cell_type": "code",
   "execution_count": 4,
   "metadata": {},
   "outputs": [
    {
     "data": {
      "text/plain": [
       "TensorShape([Dimension(2)])"
      ]
     },
     "execution_count": 4,
     "metadata": {},
     "output_type": "execute_result"
    }
   ],
   "source": [
    "rank1_string.shape "
   ]
  },
  {
   "cell_type": "markdown",
   "metadata": {},
   "source": [
    "##### [2,]\n",
    "- 只有 1 層 list\n",
    "- 每個 list 有 2 個 values(注意: list 裡的 value 數必須相同)"
   ]
  },
  {
   "cell_type": "code",
   "execution_count": 5,
   "metadata": {},
   "outputs": [
    {
     "data": {
      "text/plain": [
       "TensorShape([Dimension(3), Dimension(2)])"
      ]
     },
     "execution_count": 5,
     "metadata": {},
     "output_type": "execute_result"
    }
   ],
   "source": [
    "rank2_string.shape "
   ]
  },
  {
   "cell_type": "markdown",
   "metadata": {},
   "source": [
    "##### [3, 2]\n",
    "- 第一層有 3 個 lists\n",
    "- 每個 list 有 2 個 values(注意: list 裡的 value 數必須相同)"
   ]
  },
  {
   "cell_type": "markdown",
   "metadata": {},
   "source": [
    "#### <font color='red'>.reshape()</font>"
   ]
  },
  {
   "cell_type": "code",
   "execution_count": 6,
   "metadata": {},
   "outputs": [
    {
     "name": "stdout",
     "output_type": "stream",
     "text": [
      "(1, 2, 3)\n",
      "(3, 2)\n"
     ]
    }
   ],
   "source": [
    "tensor1 = tf.ones([1, 2, 3]) # 第一層有 1 個 list，第二層有 2 個 list，每個 list 有 3 個 elements\n",
    "print(tensor1.shape)\n",
    "\n",
    "tensor2 = tf.reshape(tensor1, [2, 3, 1])\n",
    "tensor3 = tf.reshape(tensor2, [3, -1]) # 第一層有 3 個 lists，其它給 tf 自己算(反正 elements 總數要跟 tensor2 一樣就對了)\n",
    "print(tensor3.shape)"
   ]
  },
  {
   "cell_type": "code",
   "execution_count": 7,
   "metadata": {},
   "outputs": [
    {
     "data": {
      "text/plain": [
       "'用 print(tensor1) 應該出現:\\ntf.Tensor(\\n[[[1. 1. 1.]\\n  [1. 1. 1.]]], shape=(1, 2, 3), dtype=float32)\\n\\nprint(tensor2):\\ntf.Tensor(\\n[[[1.]\\n  [1.]\\n  [1.]]\\n\\n [[1.]\\n  [1.]\\n  [1.]]], shape=(2, 3, 1), dtype=float32)\\n\\nprint(tensor3):\\ntf.Tensor(\\n[[1. 1.]\\n [1. 1.]\\n [1. 1.]], shape=(3, 2), dtype=float32)\\n'"
      ]
     },
     "execution_count": 7,
     "metadata": {},
     "output_type": "execute_result"
    }
   ],
   "source": [
    "'''用 print(tensor1) 應該出現:\n",
    "tf.Tensor(\n",
    "[[[1. 1. 1.]\n",
    "  [1. 1. 1.]]], shape=(1, 2, 3), dtype=float32)\n",
    "\n",
    "print(tensor2):\n",
    "tf.Tensor(\n",
    "[[[1.]\n",
    "  [1.]\n",
    "  [1.]]\n",
    "\n",
    " [[1.]\n",
    "  [1.]\n",
    "  [1.]]], shape=(2, 3, 1), dtype=float32)\n",
    "\n",
    "print(tensor3):\n",
    "tf.Tensor(\n",
    "[[1. 1.]\n",
    " [1. 1.]\n",
    " [1. 1.]], shape=(3, 2), dtype=float32)\n",
    "'''"
   ]
  },
  {
   "cell_type": "markdown",
   "metadata": {},
   "source": [
    "#### Tensor 的種類:\n",
    "- Variable\n",
    "- Constant\n",
    "- Placeholder\n",
    "- SparseTensor\n",
    "#### 其中除了 variable 外，都是 immuttable"
   ]
  },
  {
   "cell_type": "markdown",
   "metadata": {},
   "source": [
    "### Evaluating tensor (也就是取得 tensor 的 value):\n",
    "#### 前面說過 tensor 代表的是部分的計算[就是計算而已沒有結果]  因此要用 <font color='red'>session</font>來取得結果。\n",
    "#### 關鍵字: <font color='red'> .Session() 與 .eval()</font>"
   ]
  },
  {
   "cell_type": "code",
   "execution_count": 8,
   "metadata": {},
   "outputs": [],
   "source": [
    "tensor1 = tf.ones([1, 2, 3])\n",
    "with tf.Session() as sess:\n",
    "    tensor1.eval() "
   ]
  },
  {
   "cell_type": "code",
   "execution_count": null,
   "metadata": {},
   "outputs": [],
   "source": []
  }
 ],
 "metadata": {
  "kernelspec": {
   "display_name": "Python 3",
   "language": "python",
   "name": "python3"
  },
  "language_info": {
   "codemirror_mode": {
    "name": "ipython",
    "version": 3
   },
   "file_extension": ".py",
   "mimetype": "text/x-python",
   "name": "python",
   "nbconvert_exporter": "python",
   "pygments_lexer": "ipython3",
   "version": "3.7.3"
  }
 },
 "nbformat": 4,
 "nbformat_minor": 2
}
