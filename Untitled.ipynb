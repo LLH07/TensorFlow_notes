{
 "cells": [
  {
   "cell_type": "markdown",
   "metadata": {},
   "source": [
    "[筆記來源](https://colab.research.google.com/drive/1F_EWVKa8rbMXi3_fG0w7AtcscFq7Hi7B#forceEdit=true&sandboxMode=true&scrollTo=duDj86TfWFof)"
   ]
  },
  {
   "cell_type": "markdown",
   "metadata": {},
   "source": [
    "#### TensorFlow 是 Google 維護，他是一個 Machine Learning Library。\n",
    "#### 在 TensorFlow 裡，只有三種物件(?)，<font color='red'> tensors, graphs 與 sessions </font>"
   ]
  },
  {
   "cell_type": "markdown",
   "metadata": {},
   "source": [
    "- graphs: 這裡沒有確切的值，只有類似等式的關係，比如 Vector1 = Vector2 + Vector3\n",
    "- sessions: "
   ]
  },
  {
   "cell_type": "markdown",
   "metadata": {},
   "source": [
    "> A tensor is a <font color='red'>generalization of vectors and matrices to potentially higher dimensions</font>. Internally, TensorFlow represents tensors as n-dimensional arrays of base datatypes  \n",
    "> 每個 tensor 都有其 <font color='red'>data type 與 shape</font>\n",
    "- data type: float32, int32, string...\n",
    "- shape: 代表 data 的 dimension"
   ]
  },
  {
   "cell_type": "markdown",
   "metadata": {},
   "source": [
    "> <font color = 'blue'>Graph: </font> Building a graph of Tensor objects that details how tensors are related. Running different parts of the graph allow results to be generated."
   ]
  },
  {
   "cell_type": "code",
   "execution_count": 3,
   "metadata": {},
   "outputs": [],
   "source": [
    "import tensorflow as tf"
   ]
  },
  {
   "cell_type": "markdown",
   "metadata": {},
   "source": [
    "### 創建一個 tensor 物件。\n",
    "#### 使用 .Variable() method。\n",
    "#### 括號內第一個參數代表資料的內容(value)，第二個參數是 data type，而此 tensor 的 shape 是 1(1 個 value)[shape=1 的 tensor，其 shape 又可稱 scale]\n",
    "#### 此 tensor 的 rank(degree) 是 0。"
   ]
  },
  {
   "cell_type": "code",
   "execution_count": 4,
   "metadata": {},
   "outputs": [],
   "source": [
    "string = tf.Variable('This is a string', tf.string)"
   ]
  },
  {
   "cell_type": "markdown",
   "metadata": {},
   "source": [
    "#### 此 tensor 的 rank 是 1。因為 list 可以存很多 value\n",
    "#### 用 <font color='red'> .rank() </font> 來確認 rank:"
   ]
  },
  {
   "cell_type": "code",
   "execution_count": 7,
   "metadata": {},
   "outputs": [
    {
     "name": "stdout",
     "output_type": "stream",
     "text": [
      "Tensor(\"Rank:0\", shape=(), dtype=int32)\n",
      "Tensor(\"Rank_1:0\", shape=(), dtype=int32)\n"
     ]
    }
   ],
   "source": [
    "rank1_string = tf.Variable(['Hello', 'World'], tf.string)\n",
    "print(tf.rank(rank1_string))\n",
    "\n",
    "rank2_string = tf.Variable([['Hello', 'Python'], ['Hello', 'C++']], tf.string) # 這稱為 matric(矩陣)\n",
    "print(tf.rank(rank2_string))"
   ]
  },
  {
   "cell_type": "code",
   "execution_count": null,
   "metadata": {},
   "outputs": [],
   "source": []
  }
 ],
 "metadata": {
  "kernelspec": {
   "display_name": "Python 3",
   "language": "python",
   "name": "python3"
  },
  "language_info": {
   "codemirror_mode": {
    "name": "ipython",
    "version": 3
   },
   "file_extension": ".py",
   "mimetype": "text/x-python",
   "name": "python",
   "nbconvert_exporter": "python",
   "pygments_lexer": "ipython3",
   "version": "3.7.3"
  }
 },
 "nbformat": 4,
 "nbformat_minor": 2
}
